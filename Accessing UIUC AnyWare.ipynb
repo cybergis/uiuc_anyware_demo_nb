{
 "cells": [
  {
   "cell_type": "markdown",
   "metadata": {},
   "source": [
    "# Accessing UIUC AnyWare"
   ]
  },
  {
   "cell_type": "markdown",
   "metadata": {},
   "source": [
    "**Author:** Rebecca Vandewalle rcv3@illinois.edu\n",
    "<br>**Created:** 5-20-21\n",
    "\n",
    "This notebook contains instructions for how to access UIUC AnyWare, a UIUC remote desktop service. These instructions are intended to support geographic work using ESRI ArcGIS software. It will demonstrate accessing the service and transferring files."
   ]
  },
  {
   "cell_type": "markdown",
   "metadata": {},
   "source": [
    "## Introduction"
   ]
  },
  {
   "cell_type": "markdown",
   "metadata": {},
   "source": [
    "University of Illinois Urbana Champaign (UIUC) students, faculty, and staff can access ArcMap using [UIUC AnyWare technology](https://static.ics.illinois.edu/remote-list/). Note that access to UIUC AnyWare may be limited during class times. If you are not affiliated with UIUC, you will not be able to use the service."
   ]
  },
  {
   "cell_type": "markdown",
   "metadata": {},
   "source": [
    "## Access Remote Desktop (UIUC Affiliation Needed)"
   ]
  },
  {
   "cell_type": "markdown",
   "metadata": {},
   "source": [
    "Use this link to access UIUC AnyWare: https://uiucanyware.cloud.com/\n",
    "\n",
    "Then you will need to log in with your UIUC email address and password in the login page shown below.\n",
    "\n",
    "<img src=\"./img/uiuc anyware login.png\" alt=\"uiuc any ware login page\" width=300>\n",
    "\n",
    "Once you have logged in, you will be at your home page which should look like the image below.\n",
    "\n",
    "<img src=\"./img/home.png\" alt=\"uiuc any ware home page\" width=800>"
   ]
  },
  {
   "cell_type": "markdown",
   "metadata": {},
   "source": [
    "## Selecting a Computer Lab"
   ]
  },
  {
   "cell_type": "markdown",
   "metadata": {},
   "source": [
    "To select a computer, click on `Desktops` in the left hand menu bar to expand the options. Then select `All Desktops`.\n",
    "\n",
    "<img src=\"./img/desktops.png\" alt=\"desktops dropdown menu\" width=200>\n",
    "\n",
    "If you are a SESE student or are currently enrolled in a class within SESE, scroll to the bottom of the list and select either `SESE-NHB 1020` or `SESE-NHB 1088`. These computer labs have ArcGIS installed. If the SESE computer labs are not available or if you are not a SESE student, select `General and Instructional On-Campus Desktop`.\n",
    "\n",
    "<img src=\"./img/sese labs.png\" alt=\"sese lab computers\" width=500>\n",
    "<img src=\"./img/general desktop.png\" alt=\"sese lab computers\" width=300>"
   ]
  },
  {
   "cell_type": "markdown",
   "metadata": {},
   "source": [
    "## Working With the Computer"
   ]
  },
  {
   "cell_type": "markdown",
   "metadata": {},
   "source": [
    "After you have selected a computer you should see a loading screen or a Windows welcome/setup screen. When the startup is finished, you should see a desktop similar to the one below (it may have a different background picture or different icons on the desktop).\n",
    "\n",
    "<img src=\"./img/computer desktop.png\" alt=\"sese lab computer virtual desktop\" width=500>"
   ]
  },
  {
   "cell_type": "markdown",
   "metadata": {},
   "source": [
    "## Uploading and Downloading Files"
   ]
  },
  {
   "cell_type": "markdown",
   "metadata": {},
   "source": [
    "To upload files, hover over the menu button in the center top of the screen:\n",
    "\n",
    "<img src=\"./img/menu 1.png\" alt=\"unexpanded menu button\" width=200>\n",
    "\n",
    "It will expand:\n",
    "\n",
    "<img src=\"./img/menu 2.png\" alt=\"expanded menu button\" width=200>\n",
    "\n",
    "Then click to expand the menu:\n",
    "\n",
    "<img src=\"./img/menu 3.png\" alt=\"expanded menu\" width=400>\n",
    "\n",
    "Click on the `upload` menu button to open the upload file pop up box (it will look different depending on your operating system):\n",
    "\n",
    "<img src=\"./img/upload.png\" alt=\"upload button\" width=400>\n",
    "\n",
    "<img src=\"./img/upload menu.png\" alt=\"upload menu\" width=500>\n",
    "\n",
    "Similarly, to download a file, click on the `download` menu button to open the download file pop up box on the remote computer:\n",
    "\n",
    "<img src=\"./img/download.png\" alt=\"download button\" width=400>\n",
    "\n",
    "<img src=\"./img/download menu.png\" alt=\"download menu\" width=500>"
   ]
  },
  {
   "cell_type": "markdown",
   "metadata": {},
   "source": [
    "# Important!\n",
    "\n",
    "<span style=\"color:red\">**Files will be deleted once your remote session is closed. Make sure to download or send yourself any files that you want to keep before ending your session!**</span>\n",
    "\n",
    "Note: your data may appear to be persistant if you are using the remote desktop frequently, but it will be erased at some point within a few days!"
   ]
  },
  {
   "cell_type": "markdown",
   "metadata": {},
   "source": [
    "## Signing Off"
   ]
  },
  {
   "cell_type": "markdown",
   "metadata": {},
   "source": [
    "To sign off, you can cover and expand the main menu at the top center of the screen:\n",
    "\n",
    "<img src=\"./img/menu 3.png\" alt=\"expanded menu\" width=400>\n",
    "\n",
    "Then click the button with the 3 dots to expand the additional part of the menu and select `log off`:\n",
    "\n",
    "<img src=\"./img/menu 4.png\" alt=\"expanded menu additional options\" width=400>\n",
    "\n",
    "Alternatively, if you are on a general campus computer you may have the option to log off using the logoff button:\n",
    "\n",
    "<img src=\"./img/logoff button.png\" alt=\"log off button\" width=400>\n",
    "\n",
    "**Note:** Your session will also be terminated if you are idle for 2 hours. If this happens any files you have created on the remote desktop but not downloaded will be lost, so make sure to save them first!"
   ]
  }
 ],
 "metadata": {
  "kernelspec": {
   "display_name": "Python 3",
   "language": "python",
   "name": "python3"
  },
  "language_info": {
   "codemirror_mode": {
    "name": "ipython",
    "version": 3
   },
   "file_extension": ".py",
   "mimetype": "text/x-python",
   "name": "python",
   "nbconvert_exporter": "python",
   "pygments_lexer": "ipython3",
   "version": "3.7.6"
  }
 },
 "nbformat": 4,
 "nbformat_minor": 4
}
